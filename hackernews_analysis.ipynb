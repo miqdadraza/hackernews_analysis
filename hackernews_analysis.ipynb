{
 "cells": [
  {
   "cell_type": "markdown",
   "metadata": {},
   "source": [
    "\n",
    "# Analysis of [Hacker News](https://news.ycombinator.com) Posts\n",
    "\n",
    "In this analysis, we will take a concise dataset of Hacker News posts, and analyze them to see if we find any patterns. We will try and focus on **Ask HN** and **Show HN** posts and see if these have any specific patterns.\n",
    "\n",
    "The dataset has been obtained from [here](https://www.kaggle.com/hacker-news/hacker-news-posts). Note, the dataset used has been modified to cut out any posts without comments."
   ]
  },
  {
   "cell_type": "code",
   "execution_count": 16,
   "metadata": {},
   "outputs": [
    {
     "name": "stdout",
     "output_type": "stream",
     "text": [
      "[['id', 'title', 'url', 'num_points', 'num_comments', 'author', 'created_at'], ['12224879', 'Interactive Dynamic Video', 'http://www.interactivedynamicvideo.com/', '386', '52', 'ne0phyte', '8/4/2016 11:52'], ['10975351', 'How to Use Open Source and Shut the Fuck Up at the Same Time', 'http://hueniverse.com/2016/01/26/how-to-use-open-source-and-shut-the-fuck-up-at-the-same-time/', '39', '10', 'josep2', '1/26/2016 19:30'], ['11964716', \"Florida DJs May Face Felony for April Fools' Water Joke\", 'http://www.thewire.com/entertainment/2013/04/florida-djs-april-fools-water-joke/63798/', '2', '1', 'vezycash', '6/23/2016 22:20'], ['11919867', 'Technology ventures: From Idea to Enterprise', 'https://www.amazon.com/Technology-Ventures-Enterprise-Thomas-Byers/dp/0073523429', '3', '1', 'hswarna', '6/17/2016 0:01'], ['10301696', 'Note by Note: The Making of Steinway L1037 (2007)', 'http://www.nytimes.com/2007/11/07/movies/07stein.html?_r=0', '8', '2', 'walterbell', '9/30/2015 4:12']]\n",
      "['id', 'title', 'url', 'num_points', 'num_comments', 'author', 'created_at']\n"
     ]
    }
   ],
   "source": [
    "from csv import reader\n",
    "\n",
    "opened_file = open('hacker_news.csv')\n",
    "read_file = reader(opened_file)\n",
    "hn = list(read_file)\n",
    "print(hn[:6])\n"
   ]
  },
  {
   "cell_type": "code",
   "execution_count": 20,
   "metadata": {},
   "outputs": [
    {
     "name": "stdout",
     "output_type": "stream",
     "text": [
      "['10975351', 'How to Use Open Source and Shut the Fuck Up at the Same Time', 'http://hueniverse.com/2016/01/26/how-to-use-open-source-and-shut-the-fuck-up-at-the-same-time/', '39', '10', 'josep2', '1/26/2016 19:30']\n",
      "[['11964716', \"Florida DJs May Face Felony for April Fools' Water Joke\", 'http://www.thewire.com/entertainment/2013/04/florida-djs-april-fools-water-joke/63798/', '2', '1', 'vezycash', '6/23/2016 22:20'], ['11919867', 'Technology ventures: From Idea to Enterprise', 'https://www.amazon.com/Technology-Ventures-Enterprise-Thomas-Byers/dp/0073523429', '3', '1', 'hswarna', '6/17/2016 0:01'], ['10301696', 'Note by Note: The Making of Steinway L1037 (2007)', 'http://www.nytimes.com/2007/11/07/movies/07stein.html?_r=0', '8', '2', 'walterbell', '9/30/2015 4:12'], ['10482257', 'Title II kills investment? Comcast and other ISPs are now spending more', 'http://arstechnica.com/business/2015/10/comcast-and-other-isps-boost-network-investment-despite-net-neutrality/', '53', '22', 'Deinos', '10/31/2015 9:48'], ['10557283', 'Nuts and Bolts Business Advice', '', '3', '4', 'shomberj', '11/13/2015 0:45']]\n"
     ]
    }
   ],
   "source": [
    "#popping the header list from hn and adding it to a new variable called header\n",
    "header = hn.pop(0)\n",
    "print(header)\n",
    "print(hn[:5])"
   ]
  },
  {
   "cell_type": "markdown",
   "metadata": {},
   "source": [
    "## Extracting Ask HN and Show HN Posts"
   ]
  },
  {
   "cell_type": "code",
   "execution_count": 19,
   "metadata": {},
   "outputs": [
    {
     "name": "stdout",
     "output_type": "stream",
     "text": [
      "The number of Ask HN posts are: 1744.\n",
      "The number of Show HN posts are: 1162.\n",
      "The number of Other HN posts are: 17193.\n"
     ]
    }
   ],
   "source": [
    "#creating lists with only ask posts, show posts, and a third list with all the other posts\n",
    "\n",
    "ask_posts = []\n",
    "show_posts = []\n",
    "other_posts = []\n",
    "\n",
    "for row in hn:\n",
    "    title = row[1]\n",
    "    \n",
    "    if title.lower().startswith(\"ask hn\"):\n",
    "        ask_posts.append(row)\n",
    "    elif title.lower().startswith(\"show hn\"):\n",
    "        show_posts.append(row)\n",
    "    else:\n",
    "        other_posts.append(row)\n",
    "\n",
    "print(\"The number of Ask HN posts are: \" + str(len(ask_posts))+ \".\")\n",
    "print(\"The number of Show HN posts are: \" + str(len(show_posts))+ \".\")\n",
    "print(\"The number of Other HN posts are: \" + str(len(other_posts))+ \".\")\n",
    "    "
   ]
  },
  {
   "cell_type": "markdown",
   "metadata": {},
   "source": [
    "We see that the number of Ask HN posts are 1744, Show HN posts are 1162, and the other posts are 17193."
   ]
  },
  {
   "cell_type": "markdown",
   "metadata": {},
   "source": [
    "## Calculating the Average Number of Comments for Ask HN and Show HN Posts\n",
    "\n",
    "We will determine if Ask HN or Show HN posts get higher number of comments on average"
   ]
  },
  {
   "cell_type": "code",
   "execution_count": 23,
   "metadata": {},
   "outputs": [
    {
     "name": "stdout",
     "output_type": "stream",
     "text": [
      "The average number of comments an Ask HN posts gets is: 14.038417431192661\n",
      "The average number of comments a Show HN posts gets is: 10.31669535283993\n"
     ]
    }
   ],
   "source": [
    "#creating a function that will take in a data set and give you the average number of comments\n",
    "def avg_comments(dataset):\n",
    "    \n",
    "    total_comments = 0\n",
    "    \n",
    "    for row in dataset:\n",
    "        num_comments = row[4]\n",
    "        num_comments = int(num_comments)\n",
    "        total_comments += num_comments\n",
    "    \n",
    "    average_comments = total_comments/len(dataset)\n",
    "    return average_comments\n",
    "\n",
    "\n",
    "avg_ask_comments = avg_comments(ask_posts)\n",
    "avg_show_comments = avg_comments(show_posts)\n",
    "\n",
    "print(\"The average number of comments an Ask HN posts gets is: \" + str(avg_ask_comments))\n",
    "print(\"The average number of comments a Show HN posts gets is: \" + str(avg_show_comments))\n",
    "\n"
   ]
  },
  {
   "cell_type": "markdown",
   "metadata": {},
   "source": [
    "From our analysis, it seems that Ask HN posts, on average, get more comments than Show HN posts."
   ]
  },
  {
   "cell_type": "markdown",
   "metadata": {},
   "source": [
    "## Finding the Amount of Ask Posts and Comments by Hour Created\n",
    "\n",
    "We will determine if Ask HN posts created at a certain time are more likely to get more comments."
   ]
  },
  {
   "cell_type": "code",
   "execution_count": 38,
   "metadata": {},
   "outputs": [
    {
     "name": "stdout",
     "output_type": "stream",
     "text": [
      "At hour 9, there were 45 posts.\n",
      "At hour 13, there were 85 posts.\n",
      "At hour 10, there were 59 posts.\n",
      "At hour 14, there were 107 posts.\n",
      "At hour 16, there were 108 posts.\n",
      "At hour 23, there were 68 posts.\n",
      "At hour 12, there were 73 posts.\n",
      "At hour 17, there were 100 posts.\n",
      "At hour 15, there were 116 posts.\n",
      "At hour 21, there were 109 posts.\n",
      "At hour 20, there were 80 posts.\n",
      "At hour 2, there were 58 posts.\n",
      "At hour 18, there were 109 posts.\n",
      "At hour 3, there were 54 posts.\n",
      "At hour 5, there were 46 posts.\n",
      "At hour 19, there were 110 posts.\n",
      "At hour 1, there were 60 posts.\n",
      "At hour 22, there were 71 posts.\n",
      "At hour 8, there were 48 posts.\n",
      "At hour 4, there were 47 posts.\n",
      "At hour 0, there were 55 posts.\n",
      "At hour 6, there were 44 posts.\n",
      "At hour 7, there were 34 posts.\n",
      "At hour 11, there were 58 posts.\n",
      "\n",
      "\n",
      "\n",
      "At hour 9, there were 251 comments.\n",
      "At hour 13, there were 1253 comments.\n",
      "At hour 10, there were 793 comments.\n",
      "At hour 14, there were 1416 comments.\n",
      "At hour 16, there were 1814 comments.\n",
      "At hour 23, there were 543 comments.\n",
      "At hour 12, there were 687 comments.\n",
      "At hour 17, there were 1146 comments.\n",
      "At hour 15, there were 4477 comments.\n",
      "At hour 21, there were 1745 comments.\n",
      "At hour 20, there were 1722 comments.\n",
      "At hour 2, there were 1381 comments.\n",
      "At hour 18, there were 1439 comments.\n",
      "At hour 3, there were 421 comments.\n",
      "At hour 5, there were 464 comments.\n",
      "At hour 19, there were 1188 comments.\n",
      "At hour 1, there were 683 comments.\n",
      "At hour 22, there were 479 comments.\n",
      "At hour 8, there were 492 comments.\n",
      "At hour 4, there were 337 comments.\n",
      "At hour 0, there were 447 comments.\n",
      "At hour 6, there were 397 comments.\n",
      "At hour 7, there were 267 comments.\n",
      "At hour 11, there were 641 comments.\n"
     ]
    }
   ],
   "source": [
    "import datetime as dt\n",
    "\n",
    "#this is an empty list which will contain a list of lists. The list of list will contain two elemtns: the time of the post and the number of comments it recieved.\n",
    "result_list = []\n",
    "\n",
    "for row in ask_posts:\n",
    "    created_at = row[6]\n",
    "    num_comments = row[4]\n",
    "    two_elements = [created_at, int(num_comments)]\n",
    "    result_list.append(two_elements)\n",
    "\n",
    "#print(result_list)\n",
    "counts_by_hour = {}\n",
    "comments_by_hour = {}\n",
    "\n",
    "for row in result_list:\n",
    "    date_created = row[0]\n",
    "    n_comments = row[1]\n",
    "    dt_object = dt.datetime.strptime(date_created, \"%m/%d/%Y %H:%M\")\n",
    "    dt_hour = dt_object.hour #extracting just the hour from the date time object\n",
    "    \n",
    "    if dt_hour not in counts_by_hour:\n",
    "        counts_by_hour[dt_hour] = 1\n",
    "        comments_by_hour[dt_hour] = n_comments\n",
    "    else:\n",
    "        counts_by_hour[dt_hour] += 1\n",
    "        comments_by_hour[dt_hour] += n_comments\n",
    "#print(counts_by_hour)\n",
    "#print(comments_by_hour)\n",
    "\n",
    "\n",
    "for i, j in counts_by_hour.items():\n",
    "    print(\"At hour \" + str(i) + \", there were \" + str(j) + \" posts.\")\n",
    "print(\"\\n\\n\")    \n",
    "for i, j in comments_by_hour.items():\n",
    "    print(\"At hour \" + str(i) + \", there were \" + str(j) + \" comments.\")\n",
    "    \n",
    "    \n",
    "    "
   ]
  },
  {
   "cell_type": "code",
   "execution_count": 41,
   "metadata": {},
   "outputs": [
    {
     "name": "stdout",
     "output_type": "stream",
     "text": [
      "The average number of comments for hour 9 is 5.5777777777777775.\n",
      "The average number of comments for hour 13 is 14.741176470588234.\n",
      "The average number of comments for hour 10 is 13.440677966101696.\n",
      "The average number of comments for hour 14 is 13.233644859813085.\n",
      "The average number of comments for hour 16 is 16.796296296296298.\n",
      "The average number of comments for hour 23 is 7.985294117647059.\n",
      "The average number of comments for hour 12 is 9.41095890410959.\n",
      "The average number of comments for hour 17 is 11.46.\n",
      "The average number of comments for hour 15 is 38.5948275862069.\n",
      "The average number of comments for hour 21 is 16.009174311926607.\n",
      "The average number of comments for hour 20 is 21.525.\n",
      "The average number of comments for hour 2 is 23.810344827586206.\n",
      "The average number of comments for hour 18 is 13.20183486238532.\n",
      "The average number of comments for hour 3 is 7.796296296296297.\n",
      "The average number of comments for hour 5 is 10.08695652173913.\n",
      "The average number of comments for hour 19 is 10.8.\n",
      "The average number of comments for hour 1 is 11.383333333333333.\n",
      "The average number of comments for hour 22 is 6.746478873239437.\n",
      "The average number of comments for hour 8 is 10.25.\n",
      "The average number of comments for hour 4 is 7.170212765957447.\n",
      "The average number of comments for hour 0 is 8.127272727272727.\n",
      "The average number of comments for hour 6 is 9.022727272727273.\n",
      "The average number of comments for hour 7 is 7.852941176470588.\n",
      "The average number of comments for hour 11 is 11.051724137931034.\n"
     ]
    }
   ],
   "source": [
    "avg_by_hour = []\n",
    "#we will loop over the two dictionaries to find the average number of comments in that hour. We can do this because the keys of both the dictionaries are the same\n",
    "\n",
    "for key in counts_by_hour:\n",
    "    avg_comments = comments_by_hour[key]/counts_by_hour[key]\n",
    "    avg_by_hour.append([key, avg_comments])\n",
    "\n",
    "for row in avg_by_hour:\n",
    "    hour = row[0]\n",
    "    avg = row[1]\n",
    "    print(\"The average number of comments for hour \" + str(hour) + \" is \" + str(avg) +\".\")"
   ]
  },
  {
   "cell_type": "markdown",
   "metadata": {},
   "source": [
    "## Sorting and Printing Values from a List of Lists\n"
   ]
  },
  {
   "cell_type": "code",
   "execution_count": 49,
   "metadata": {},
   "outputs": [
    {
     "name": "stdout",
     "output_type": "stream",
     "text": [
      "Top 5 Hours for Ask Post Comments:\n",
      "15:00: 38.59 average comments per post\n",
      "02:00: 23.81 average comments per post\n",
      "20:00: 21.52 average comments per post\n",
      "16:00: 16.80 average comments per post\n",
      "21:00: 16.01 average comments per post\n"
     ]
    }
   ],
   "source": [
    "swap_avg_by_hour = []\n",
    "for row in avg_by_hour:\n",
    "    swap_avg_by_hour.append([row[1], row[0]])\n",
    "#print(swap_avg_by_hour)\n",
    "sorted_swap = sorted(swap_avg_by_hour, reverse=True)\n",
    "\n",
    "print(\"Top 5 Hours for Ask Post Comments:\")\n",
    "\n",
    "for row in sorted_swap[:5]:\n",
    "    hour = str(row[1])\n",
    "    dt_hour_str = dt.datetime.strptime(hour, \"%H\").strftime(\"%H:%M\")\n",
    "    print(\"{}: {:.2f} average comments per post\".format(dt_hour_str, row[0]))\n",
    "    #string_hour = dt_hour.strftime(\"%H:%M\")"
   ]
  },
  {
   "cell_type": "markdown",
   "metadata": {},
   "source": [
    "From the dataset, we can conclude that posting an Ask HN post around 3:00 PM will most likely yield the most number of comments."
   ]
  },
  {
   "cell_type": "code",
   "execution_count": null,
   "metadata": {},
   "outputs": [],
   "source": []
  }
 ],
 "metadata": {
  "kernelspec": {
   "display_name": "Python 3",
   "language": "python",
   "name": "python3"
  },
  "language_info": {
   "codemirror_mode": {
    "name": "ipython",
    "version": 3
   },
   "file_extension": ".py",
   "mimetype": "text/x-python",
   "name": "python",
   "nbconvert_exporter": "python",
   "pygments_lexer": "ipython3",
   "version": "3.8.5"
  }
 },
 "nbformat": 4,
 "nbformat_minor": 4
}
